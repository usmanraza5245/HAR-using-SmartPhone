{
 "cells": [
  {
   "cell_type": "code",
   "execution_count": 5,
   "metadata": {},
   "outputs": [],
   "source": [
    "import pandas as pd\n",
    "train = pd.read_csv('train.csv')\n",
    "test = pd.read_csv('test.csv')\n",
    "\n",
    "test_activity = test['Activity']\n",
    "train_activity = train['Activity']\n",
    "train = train.drop(['subject','Activity'],axis=1)\n",
    "test = test.drop(['subject','Activity'],axis=1)\n",
    "#print(data)\n",
    "filter_train = train.filter(regex='meanFreq')\n",
    "filter_test = test.filter(regex='meanFreq')\n",
    "train = train.drop(filter_train,axis=1)\n",
    "test = test.drop(filter_test,axis=1)\n",
    "train=train.filter(regex='mean|std')\n",
    "test=test.filter(regex='mean|std')"
   ]
  },
  {
   "cell_type": "code",
   "execution_count": 6,
   "metadata": {},
   "outputs": [],
   "source": [
    "from sklearn.preprocessing import StandardScaler as scaler\n",
    "scaler = scaler().fit(train)\n",
    "train = scaler.transform(train)\n",
    "test = scaler.transform(test)\n",
    "#print(data)\n",
    "from sklearn.preprocessing import LabelEncoder\n",
    "le = LabelEncoder().fit(['STANDING','SITTING','LAYING','WALKING','WALKING_UPSTAIRS','WALKING_DOWNSTAIRS'])\n",
    "test_activity_enc = le.transform(test_activity)\n",
    "train_activity_enc = le.transform(train_activity)\n",
    "#print(test_activity_enc)"
   ]
  },
  {
   "cell_type": "code",
   "execution_count": 7,
   "metadata": {},
   "outputs": [],
   "source": [
    "from sklearn.svm import SVC\n",
    "model = SVC(kernel='linear')\n",
    "model.fit(train, train_activity_enc)\n",
    "prediction = model.predict(test)\n"
   ]
  },
  {
   "cell_type": "code",
   "execution_count": 8,
   "metadata": {},
   "outputs": [
    {
     "name": "stdout",
     "output_type": "stream",
     "text": [
      "Confusion Matrix:\n",
      "[[537   1   0   0   0   0]\n",
      " [  0 398  33   0   0   0]\n",
      " [  0  92 499   0   0   0]\n",
      " [  0   0   0 489   2  43]\n",
      " [  0   0   0   6 384  15]\n",
      " [  0   0   0   1  34 413]]\n",
      "              precision    recall  f1-score   support\n",
      "\n",
      "           0       1.00      1.00      1.00       538\n",
      "           1       0.81      0.92      0.86       431\n",
      "           2       0.94      0.84      0.89       591\n",
      "           3       0.99      0.92      0.95       534\n",
      "           4       0.91      0.95      0.93       405\n",
      "           5       0.88      0.92      0.90       448\n",
      "\n",
      "    accuracy                           0.92      2947\n",
      "   macro avg       0.92      0.93      0.92      2947\n",
      "weighted avg       0.93      0.92      0.92      2947\n",
      "\n",
      "Accuracy score is  0.9229725144214456\n"
     ]
    }
   ],
   "source": [
    "from sklearn.metrics import accuracy_score,confusion_matrix,classification_report\n",
    "\n",
    "result = confusion_matrix(prediction,test_activity_enc)\n",
    "print(\"Confusion Matrix:\")\n",
    "print(result)\n",
    "\n",
    "report = classification_report(prediction,test_activity_enc)\n",
    "print(report)\n",
    "\n",
    "print('Accuracy score is ', accuracy_score(prediction,test_activity_enc))"
   ]
  },
  {
   "cell_type": "code",
   "execution_count": 9,
   "metadata": {},
   "outputs": [],
   "source": [
    "from sklearn.model_selection import KFold\n",
    "from sklearn.model_selection import cross_val_score\n",
    "kf = KFold(n_splits=20,)\n",
    "svm = SVC(kernel='linear')\n",
    "score = cross_val_score(svm,train,train_activity_enc,cv=kf)\n"
   ]
  },
  {
   "cell_type": "code",
   "execution_count": 10,
   "metadata": {},
   "outputs": [
    {
     "name": "stdout",
     "output_type": "stream",
     "text": [
      "[0.98369565 0.93206522 0.92934783 0.87228261 0.91032609 0.98097826\n",
      " 0.70108696 0.98097826 0.73641304 0.96195652 0.91032609 0.97826087\n",
      " 0.96730245 0.95640327 0.8719346  0.94822888 1.         0.89373297\n",
      " 0.92643052 0.96730245]\n",
      "0.9204526270584055\n"
     ]
    }
   ],
   "source": [
    "print(score)\n",
    "print(score.mean())"
   ]
  },
  {
   "cell_type": "code",
   "execution_count": 11,
   "metadata": {},
   "outputs": [
    {
     "name": "stdout",
     "output_type": "stream",
     "text": [
      "[0.95108696 0.89673913 0.92663043 0.9076087  0.95108696 0.92934783\n",
      " 0.8125     0.98369565 0.85326087 0.94293478 0.88586957 0.80163043\n",
      " 0.95912807 0.91280654 0.82288828 0.96730245 0.98092643 0.90190736\n",
      " 0.96185286 0.94822888]\n",
      "0.9148716088141216\n"
     ]
    }
   ],
   "source": [
    "from sklearn.ensemble import RandomForestClassifier\n",
    "classifier = RandomForestClassifier()\n",
    "score = cross_val_score(classifier,train,train_activity_enc,cv=kf)\n",
    "print(score)\n",
    "print(score.mean())"
   ]
  },
  {
   "cell_type": "code",
   "execution_count": 12,
   "metadata": {},
   "outputs": [
    {
     "name": "stdout",
     "output_type": "stream",
     "text": [
      "[0.95108696 0.92663043 0.92119565 0.87228261 0.9375     0.92391304\n",
      " 0.8125     0.98369565 0.89673913 0.96195652 0.87228261 0.9701087\n",
      " 0.91280654 0.91280654 0.83923706 0.95640327 0.98910082 0.92915531\n",
      " 0.97547684 0.92915531]\n",
      "0.9237016496860561\n"
     ]
    }
   ],
   "source": [
    "from sklearn.ensemble import ExtraTreesClassifier\n",
    "classifier = ExtraTreesClassifier()\n",
    "score = cross_val_score(classifier,train,train_activity_enc,cv=kf)\n",
    "print(score)\n",
    "print(score.mean())"
   ]
  },
  {
   "cell_type": "code",
   "execution_count": 13,
   "metadata": {},
   "outputs": [],
   "source": [
    "from sklearn.tree import DecisionTreeClassifier as dtc\n",
    "dt = dtc()\n",
    "score = cross_val_score(dt,train,train_activity_enc,cv=kf)"
   ]
  },
  {
   "cell_type": "code",
   "execution_count": 14,
   "metadata": {},
   "outputs": [
    {
     "name": "stdout",
     "output_type": "stream",
     "text": [
      "[0.89945652 0.86684783 0.85869565 0.8125     0.8423913  0.87771739\n",
      " 0.66576087 0.91032609 0.69021739 0.83695652 0.8451087  0.76358696\n",
      " 0.91008174 0.78474114 0.77384196 0.88555858 0.9373297  0.83106267\n",
      " 0.85558583 0.8719346 ]\n",
      "0.8359850728586661\n"
     ]
    }
   ],
   "source": [
    "print(score)\n",
    "print(score.mean())"
   ]
  },
  {
   "cell_type": "code",
   "execution_count": 30,
   "metadata": {},
   "outputs": [
    {
     "name": "stdout",
     "output_type": "stream",
     "text": [
      "0.9269617133053085\n",
      "ExtraTreesClassifier(min_samples_split=6, n_estimators=140)\n"
     ]
    }
   ],
   "source": [
    "from sklearn.model_selection import RandomizedSearchCV as rondomcv\n",
    "import numpy as np\n",
    "model = ExtraTreesClassifier()\n",
    "parameters = {'n_estimators':np.arange(20,220,20),'min_samples_split':np.arange(2,12,2)}\n",
    "search = rondomcv(model,param_distributions=parameters, n_iter=30,n_jobs=4)\n",
    "search.fit(train,train_activity_enc)\n",
    "print(search.best_score_)\n",
    "print(search.best_estimator_)"
   ]
  },
  {
   "cell_type": "code",
   "execution_count": 31,
   "metadata": {},
   "outputs": [],
   "source": [
    "xt = search.best_estimator_\n",
    "xt.fit(train,train_activity_enc)\n",
    "prediction = xt.predict(test)"
   ]
  },
  {
   "cell_type": "code",
   "execution_count": 32,
   "metadata": {},
   "outputs": [
    {
     "name": "stdout",
     "output_type": "stream",
     "text": [
      "Accuracy is :  0.9338310145911096\n"
     ]
    }
   ],
   "source": [
    "print(\"Accuracy is : \", accuracy_score(prediction,test_activity_enc))"
   ]
  },
  {
   "cell_type": "code",
   "execution_count": 33,
   "metadata": {},
   "outputs": [
    {
     "name": "stdout",
     "output_type": "stream",
     "text": [
      "[ 20  40  60  80 100 120 140 160 180 200]\n"
     ]
    }
   ],
   "source": [
    "print(np.arange(20,210,20))"
   ]
  },
  {
   "cell_type": "code",
   "execution_count": null,
   "metadata": {},
   "outputs": [],
   "source": []
  }
 ],
 "metadata": {
  "kernelspec": {
   "display_name": "Python 3",
   "language": "python",
   "name": "python3"
  },
  "language_info": {
   "codemirror_mode": {
    "name": "ipython",
    "version": 3
   },
   "file_extension": ".py",
   "mimetype": "text/x-python",
   "name": "python",
   "nbconvert_exporter": "python",
   "pygments_lexer": "ipython3",
   "version": "3.6.12"
  }
 },
 "nbformat": 4,
 "nbformat_minor": 4
}
