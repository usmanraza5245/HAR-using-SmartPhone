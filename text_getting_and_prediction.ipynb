{
 "cells": [
  {
   "cell_type": "code",
   "execution_count": 1,
   "metadata": {},
   "outputs": [],
   "source": [
    "import pandas as pd\n",
    "import numpy as np\n",
    "#import standardscaler and label encoder for normalization of data and encoding of class\n",
    "from sklearn.preprocessing import StandardScaler\n",
    "from sklearn.preprocessing import LabelEncoder\n",
    "\n",
    "from sklearn.tree import DecisionTreeClassifier as dt\n",
    "from sklearn.ensemble import RandomForestClassifier as rf\n",
    "from sklearn.ensemble import ExtraTreesClassifier\n",
    "from sklearn.svm import SVC\n",
    "\n",
    "from sklearn.model_selection import cross_val_score\n",
    "from sklearn.model_selection import KFold"
   ]
  },
  {
   "cell_type": "code",
   "execution_count": 2,
   "metadata": {},
   "outputs": [
    {
     "name": "stdout",
     "output_type": "stream",
     "text": [
      "      tBodyAcc-mean()-X  tBodyAcc-mean()-Y  tBodyAcc-mean()-Z  \\\n",
      "0              0.288585          -0.020294          -0.132905   \n",
      "1              0.278419          -0.016411          -0.123520   \n",
      "2              0.279653          -0.019467          -0.113462   \n",
      "3              0.279174          -0.026201          -0.123283   \n",
      "4              0.276629          -0.016570          -0.115362   \n",
      "...                 ...                ...                ...   \n",
      "7347           0.299665          -0.057193          -0.181233   \n",
      "7348           0.273853          -0.007749          -0.147468   \n",
      "7349           0.273387          -0.017011          -0.045022   \n",
      "7350           0.289654          -0.018843          -0.158281   \n",
      "7351           0.351503          -0.012423          -0.203867   \n",
      "\n",
      "      tBodyAcc-std()-X  tBodyAcc-std()-Y  tBodyAcc-std()-Z  \\\n",
      "0            -0.995279         -0.983111         -0.913526   \n",
      "1            -0.998245         -0.975300         -0.960322   \n",
      "2            -0.995380         -0.967187         -0.978944   \n",
      "3            -0.996091         -0.983403         -0.990675   \n",
      "4            -0.998139         -0.980817         -0.990482   \n",
      "...                ...               ...               ...   \n",
      "7347         -0.195387          0.039905          0.077078   \n",
      "7348         -0.235309          0.004816          0.059280   \n",
      "7349         -0.218218         -0.103822          0.274533   \n",
      "7350         -0.219139         -0.111412          0.268893   \n",
      "7351         -0.269270         -0.087212          0.177404   \n",
      "\n",
      "      tGravityAcc-mean()-X  tGravityAcc-mean()-Y  tGravityAcc-mean()-Z  \\\n",
      "0                 0.963396             -0.140840              0.115375   \n",
      "1                 0.966561             -0.141551              0.109379   \n",
      "2                 0.966878             -0.142010              0.101884   \n",
      "3                 0.967615             -0.143976              0.099850   \n",
      "4                 0.968224             -0.148750              0.094486   \n",
      "...                    ...                   ...                   ...   \n",
      "7347              0.923148             -0.222004             -0.039492   \n",
      "7348              0.918343             -0.242053             -0.039863   \n",
      "7349              0.919810             -0.236950             -0.026805   \n",
      "7350              0.922323             -0.233230             -0.004984   \n",
      "7351              0.918707             -0.233292             -0.020954   \n",
      "\n",
      "      tGravityAcc-std()-X  tGravityAcc-std()-Y  tGravityAcc-std()-Z  \\\n",
      "0               -0.985250            -0.981708            -0.877625   \n",
      "1               -0.997411            -0.989447            -0.931639   \n",
      "2               -0.999574            -0.992866            -0.992917   \n",
      "3               -0.996646            -0.981393            -0.978476   \n",
      "4               -0.998429            -0.988098            -0.978745   \n",
      "...                   ...                  ...                  ...   \n",
      "7347            -0.944438            -0.857541            -0.867414   \n",
      "7348            -0.953598            -0.929171            -0.869494   \n",
      "7349            -0.978445            -0.980606            -0.764150   \n",
      "7350            -0.974112            -0.972391            -0.853617   \n",
      "7351            -0.952415            -0.967850            -0.898465   \n",
      "\n",
      "      tBodyGyro-mean()-X  tBodyGyro-mean()-Y  tBodyGyro-mean()-Z  \\\n",
      "0              -0.006101           -0.031365            0.107725   \n",
      "1              -0.016112           -0.083894            0.100584   \n",
      "2              -0.031698           -0.102335            0.096127   \n",
      "3              -0.043410           -0.091386            0.085538   \n",
      "4              -0.033960           -0.074708            0.077392   \n",
      "...                  ...                 ...                 ...   \n",
      "7347           -0.035024           -0.093011            0.124412   \n",
      "7348            0.118696           -0.095746            0.033277   \n",
      "7349           -0.213192            0.039321            0.197982   \n",
      "7350           -0.406205            0.068797            0.177467   \n",
      "7351           -0.041810           -0.322506            0.038252   \n",
      "\n",
      "      tBodyGyro-std()-X  tBodyGyro-std()-Y  tBodyGyro-std()-Z  \n",
      "0             -0.985310          -0.976623          -0.992205  \n",
      "1             -0.983120          -0.989046          -0.989121  \n",
      "2             -0.976292          -0.993552          -0.986379  \n",
      "3             -0.991385          -0.992407          -0.987554  \n",
      "4             -0.985184          -0.992378          -0.987402  \n",
      "...                 ...                ...                ...  \n",
      "7347          -0.397334           0.084878          -0.165717  \n",
      "7348          -0.478458           0.098249          -0.188467  \n",
      "7349          -0.378252           0.185902          -0.269979  \n",
      "7350          -0.529233           0.190360          -0.287925  \n",
      "7351          -0.451233           0.022216          -0.220107  \n",
      "\n",
      "[7352 rows x 18 columns]\n"
     ]
    }
   ],
   "source": [
    "train = pd.read_csv('train.csv')\n",
    "test = pd.read_csv('test.csv')\n",
    "\n",
    "training_activity = train['Activity']\n",
    "testing_activity = test['Activity']\n",
    "train = train.iloc[:,:260]\n",
    "test = test.iloc[:,:260]\n",
    "#filter data\n",
    "train = train.drop(train.filter(regex='meanFreq|Jerk|Mag'),axis=1)\n",
    "test = test.drop(test.filter(regex='meanFreq|Jerk|Mag'),axis=1)\n",
    "\n",
    "train = train.filter(regex='mean|std')\n",
    "test = test.filter(regex='mean|std')\n",
    "\n",
    "print(train)\n",
    "##print(test)"
   ]
  },
  {
   "cell_type": "code",
   "execution_count": 3,
   "metadata": {},
   "outputs": [
    {
     "name": "stdout",
     "output_type": "stream",
     "text": [
      "[2 2 2 ... 5 5 5]\n",
      "[2 2 2 ... 5 5 5]\n"
     ]
    }
   ],
   "source": [
    "#now scale the data between 1 to -1\n",
    "scaler = StandardScaler().fit(train)\n",
    "train = scaler.transform(train)\n",
    "test = scaler.transform(test)\n",
    "\n",
    "#now encode the activity\n",
    "le = LabelEncoder().fit(['STANDING','SITTING','LAYING','WALKING','WALKING_UPSTAIRS','WALKING_DOWNSTAIRS'])\n",
    "training_act_enc = le.transform(training_activity)\n",
    "testing_act_enc = le.transform(testing_activity)\n",
    "\n",
    "print(training_act_enc)\n",
    "print(testing_act_enc)"
   ]
  },
  {
   "cell_type": "code",
   "execution_count": 4,
   "metadata": {},
   "outputs": [
    {
     "name": "stdout",
     "output_type": "stream",
     "text": [
      "ExtraTree Classifier : Performance : [0.91032609 0.9076087  0.92517007 0.83537415 0.87346939 0.79863946\n",
      " 0.8462585  0.8585034  0.90612245 0.86258503] \n",
      " Accuracy:0.8724057231588287\n",
      "Random Forest Classifier : Performance : [0.88315217 0.89266304 0.9292517  0.83945578 0.84081633 0.78639456\n",
      " 0.84353741 0.84353741 0.90884354 0.84489796] \n",
      " Accuracy:0.8612549911268855\n"
     ]
    }
   ],
   "source": [
    "#train the model\n",
    "svm = SVC(kernel='linear')\n",
    "dt = dt()\n",
    "xt = ExtraTreesClassifier()\n",
    "rf = rf()\n",
    "\n",
    "kf = KFold(n_splits=10)\n",
    "\n",
    "def evaluate_model(model):\n",
    "    score = cross_val_score(model,train,training_act_enc,cv=kf)\n",
    "    average = score.mean()\n",
    "    return \"Performance : {} \\n Accuracy:{}\".format(score, average)\n",
    "\n",
    "print(\"ExtraTree Classifier : {}\".format(evaluate_model(xt)))\n",
    "print(\"Random Forest Classifier : {}\".format(evaluate_model(rf)))"
   ]
  },
  {
   "cell_type": "code",
   "execution_count": 5,
   "metadata": {},
   "outputs": [
    {
     "name": "stdout",
     "output_type": "stream",
     "text": [
      "0.8812548268797663\n",
      "ExtraTreesClassifier(min_samples_split=8, n_estimators=180)\n"
     ]
    }
   ],
   "source": [
    "#Extra Tree Classifier has greater accuracy than all of other. so we will further improve its performance by\n",
    "#tuning the algorithm\n",
    "from sklearn.model_selection import RandomizedSearchCV as randomcv\n",
    "\n",
    "parameters = {'n_estimators':np.arange(20,200,20), 'min_samples_split':np.arange(2,10,2)}\n",
    "model = ExtraTreesClassifier()\n",
    "search = randomcv(model,param_distributions=parameters,n_iter=30,n_jobs=4)\n",
    "\n",
    "search.fit(train,training_act_enc)\n",
    "print(search.best_score_)\n",
    "print(search.best_estimator_)"
   ]
  },
  {
   "cell_type": "code",
   "execution_count": 30,
   "metadata": {},
   "outputs": [
    {
     "name": "stdout",
     "output_type": "stream",
     "text": [
      "              precision    recall  f1-score   support\n",
      "\n",
      "           0       1.00      1.00      1.00       537\n",
      "           1       0.87      0.90      0.89       471\n",
      "           2       0.92      0.89      0.90       550\n",
      "           3       0.82      0.78      0.80       523\n",
      "           4       0.73      0.85      0.78       358\n",
      "           5       0.77      0.71      0.74       508\n",
      "\n",
      "    accuracy                           0.86      2947\n",
      "   macro avg       0.85      0.86      0.85      2947\n",
      "weighted avg       0.86      0.86      0.86      2947\n",
      "\n"
     ]
    }
   ],
   "source": [
    "model = search.best_estimator_\n",
    "model.fit(train,training_act_enc)\n",
    "prediction = model.predict(test)\n",
    "from sklearn.metrics import accuracy_score, confusion_matrix, classification_report\n",
    "print(classification_report(prediction, testing_act_enc))"
   ]
  },
  {
   "cell_type": "code",
   "execution_count": 47,
   "metadata": {},
   "outputs": [
    {
     "name": "stdout",
     "output_type": "stream",
     "text": [
      "2.1997218861239767e-15 1.0\n",
      "1.7763568394002505e-17 1.0000000000000002\n",
      "-1.6511236822225328e-14 1.0000000000000004\n",
      "-2.3320604706592955e-13 1.0000000000000002\n",
      "4.264440652453535e-14 1.0\n",
      "-2.102022259956963e-16 1.0000000000000002\n",
      "1.200241107702872e-17 0.9999999999999998\n",
      "-5.401084984662924e-17 1.0000000000000013\n",
      "-2.100421938480026e-17 1.0\n"
     ]
    }
   ],
   "source": [
    "import json\n",
    "sensordata = []\n",
    "with open('sensor.txt') as frt:\n",
    "    for line in frt:\n",
    "        sensordata.append(json.loads(line))\n",
    "        \n",
    "Gyros = []\n",
    "asscelo = []\n",
    "glist = []\n",
    "alist = []\n",
    "for x in sensordata:\n",
    "    if x['Sensor_Type'] == 'GyroScope':\n",
    "        Gyros = []\n",
    "        Gyros.append(x['val1'])\n",
    "        Gyros.append(x['val2'])\n",
    "        Gyros.append(x['val3'])\n",
    "        if(len(glist) <= 128):\n",
    "            glist.append(Gyros)\n",
    "    else:\n",
    "        asscelo= []\n",
    "        asscelo.append(x['val1'])\n",
    "        asscelo.append(x['val2'])\n",
    "        asscelo.append(x['val3'])\n",
    "        if(len(glist) <= 128):\n",
    "            alist.append(asscelo)\n",
    "        \n",
    "linearaccel = []\n",
    "\n",
    "for accel in alist:\n",
    "    g0 = 9.81\n",
    "    g1 = 9.81\n",
    "    g2 = 9.81\n",
    "    alpha = 0.8\n",
    "    g0 = alpha * g0 + (1 - alpha) * accel[0];\n",
    "    g1 = alpha * g1 + (1 - alpha) * accel[1];\n",
    "    g2 = alpha * g2 + (1 - alpha) * accel[2];\n",
    "    linear = []\n",
    "    linear.append(accel[0]-g0)\n",
    "    linear.append(accel[1]-g1)\n",
    "    linear.append(accel[2]-g2)\n",
    "    linearaccel.append(linear)\n",
    "  \n",
    "\n",
    "scaler = StandardScaler().fit(alist)\n",
    "alist = scaler.transform(alist)\n",
    "\n",
    "scaler1 = StandardScaler().fit(linearaccel)\n",
    "linearaccel = scaler1.transform(linearaccel)\n",
    "scaler2 = StandardScaler().fit(glist)\n",
    "glist = scaler2.transform(glist)\n",
    "accel1 = alist[:,:1]\n",
    "accel2 = alist[:,1:2]\n",
    "accel3 = alist[:,2:]\n",
    "\n",
    "accel1mean = accel1.mean()\n",
    "accel2mean = accel2.mean()\n",
    "accel3mean = accel3.mean()\n",
    "accel1std = accel1.std()\n",
    "accel2std = accel2.std()\n",
    "accel3std = accel3.std()\n",
    "print(accel1mean,accel1std)\n",
    "print(accel2mean,accel2std)\n",
    "print(accel3mean,accel3std)\n",
    "\n",
    "laccel1 = linearaccel[:,:1]\n",
    "laccel2 = linearaccel[:,1:2]\n",
    "laccel3 = linearaccel[:,2:]\n",
    "\n",
    "laccel1mean = laccel1.mean()\n",
    "laccel2mean = laccel2.mean()\n",
    "laccel3mean = laccel3.mean()\n",
    "laccel1std = laccel1.std()\n",
    "laccel2std = laccel2.std()\n",
    "laccel3std = laccel3.std()\n",
    "print(laccel1mean,laccel1std)\n",
    "print(laccel2mean,laccel2std)\n",
    "print(laccel3mean,laccel3std)\n",
    "gyro1= glist[:,:1]\n",
    "gyro2 = glist[:,1:2]\n",
    "gyro3 = glist[:,2:]\n",
    "\n",
    "gyro1mean = gyro1.mean()\n",
    "gyro2mean = gyro2.mean()\n",
    "gyro3mean = gyro3.mean()\n",
    "gyro1std = gyro1.std()\n",
    "gyro2std = gyro2.std()\n",
    "gyro3std = gyro3.std()\n",
    "print(gyro1mean,gyro1std)\n",
    "print(gyro2mean,gyro2std)\n",
    "print(gyro3mean,gyro3std)\n",
    "    \n",
    "tst = [[laccel1mean,laccel2mean,laccel3mean,laccel1std,laccel2std,laccel3std,accel1mean,accel2mean,accel3mean,accel1std,accel2std,accel3std,gyro1mean,gyro2mean,gyro3mean,gyro1mean,gyro2mean,gyro3mean]]"
   ]
  },
  {
   "cell_type": "code",
   "execution_count": 48,
   "metadata": {},
   "outputs": [],
   "source": [
    "\n",
    "\n",
    "prediction = model.predict(tst)"
   ]
  },
  {
   "cell_type": "code",
   "execution_count": 49,
   "metadata": {},
   "outputs": [
    {
     "name": "stdout",
     "output_type": "stream",
     "text": [
      "[5]\n"
     ]
    }
   ],
   "source": [
    "print(prediction)"
   ]
  },
  {
   "cell_type": "code",
   "execution_count": 50,
   "metadata": {},
   "outputs": [
    {
     "name": "stdout",
     "output_type": "stream",
     "text": [
      "[[-2.3320604706592955e-13, 4.264440652453535e-14, -2.102022259956963e-16, 1.0000000000000002, 1.0, 1.0000000000000002, 2.1997218861239767e-15, 1.7763568394002505e-17, -1.6511236822225328e-14, 1.0, 1.0000000000000002, 1.0000000000000004, 1.200241107702872e-17, -5.401084984662924e-17, -2.100421938480026e-17, 1.200241107702872e-17, -5.401084984662924e-17, -2.100421938480026e-17]]\n"
     ]
    }
   ],
   "source": [
    "print(tst)"
   ]
  },
  {
   "cell_type": "code",
   "execution_count": null,
   "metadata": {},
   "outputs": [],
   "source": [
    "\n"
   ]
  },
  {
   "cell_type": "code",
   "execution_count": null,
   "metadata": {},
   "outputs": [],
   "source": []
  },
  {
   "cell_type": "code",
   "execution_count": null,
   "metadata": {},
   "outputs": [],
   "source": []
  },
  {
   "cell_type": "code",
   "execution_count": null,
   "metadata": {},
   "outputs": [],
   "source": []
  }
 ],
 "metadata": {
  "kernelspec": {
   "display_name": "Python 3",
   "language": "python",
   "name": "python3"
  },
  "language_info": {
   "codemirror_mode": {
    "name": "ipython",
    "version": 3
   },
   "file_extension": ".py",
   "mimetype": "text/x-python",
   "name": "python",
   "nbconvert_exporter": "python",
   "pygments_lexer": "ipython3",
   "version": "3.6.13"
  }
 },
 "nbformat": 4,
 "nbformat_minor": 4
}
